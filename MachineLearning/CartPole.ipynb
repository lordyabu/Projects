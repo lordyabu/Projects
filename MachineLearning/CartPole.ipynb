{
  "nbformat": 4,
  "nbformat_minor": 0,
  "metadata": {
    "colab": {
      "provenance": []
    },
    "kernelspec": {
      "name": "python3",
      "display_name": "Python 3"
    },
    "language_info": {
      "name": "python"
    }
  },
  "cells": [
    {
      "cell_type": "code",
      "source": [
        "!pip install gym pyvirtualdisplay > /dev/null 2>&1"
      ],
      "metadata": {
        "id": "fixYM6EutQAo"
      },
      "execution_count": 10,
      "outputs": []
    },
    {
      "cell_type": "code",
      "source": [
        "!apt-get install -y xvfb python-opengl > /dev/null 2>&1"
      ],
      "metadata": {
        "id": "r3cq9m5iuHc4"
      },
      "execution_count": 15,
      "outputs": []
    },
    {
      "cell_type": "code",
      "source": [
        "!pip install stable-baselines3"
      ],
      "metadata": {
        "id": "9CjQ007CuOLz"
      },
      "execution_count": null,
      "outputs": []
    },
    {
      "cell_type": "code",
      "source": [
        "!pip install pyglet > /dev/null 2>&1 "
      ],
      "metadata": {
        "id": "Yu4Hcys9uYy2"
      },
      "execution_count": 6,
      "outputs": []
    },
    {
      "cell_type": "code",
      "source": [
        "import gym\n",
        "import os\n",
        "import numpy as np\n",
        "import matplotlib.pyplot as plt\n",
        "from IPython import display as ipythondisplay\n",
        "from stable_baselines3 import PPO\n",
        "from stable_baselines3.common.vec_env import DummyVecEnv\n",
        "from stable_baselines3.common.evaluation import evaluate_policy"
      ],
      "metadata": {
        "id": "GLYufKUglfnj"
      },
      "execution_count": null,
      "outputs": []
    },
    {
      "cell_type": "code",
      "source": [
        "from pyvirtualdisplay import Display\n",
        "display = Display(visible=0, size=(400, 300))\n",
        "display.start()"
      ],
      "metadata": {
        "id": "QqDnY8H6lhXB"
      },
      "execution_count": null,
      "outputs": []
    },
    {
      "cell_type": "code",
      "source": [
        "environment_name = 'CartPole-v0'\n",
        "env = gym.make(environment_name)"
      ],
      "metadata": {
        "id": "jTMa2Jkmmhcs"
      },
      "execution_count": 3,
      "outputs": []
    },
    {
      "cell_type": "code",
      "source": [
        "env.observation_space"
      ],
      "metadata": {
        "id": "lMx_NNSwQkGD",
        "outputId": "a063e190-9c92-4788-d780-098b58f24e6b",
        "colab": {
          "base_uri": "https://localhost:8080/"
        }
      },
      "execution_count": 4,
      "outputs": [
        {
          "output_type": "execute_result",
          "data": {
            "text/plain": [
              "Box([-4.8000002e+00 -3.4028235e+38 -4.1887903e-01 -3.4028235e+38], [4.8000002e+00 3.4028235e+38 4.1887903e-01 3.4028235e+38], (4,), float32)"
            ]
          },
          "metadata": {},
          "execution_count": 4
        }
      ]
    },
    {
      "cell_type": "code",
      "source": [
        "env = gym.make(\"CartPole-v0\")\n",
        "env.reset()\n",
        "prev_screen = env.render(mode='rgb_array')\n",
        "plt.imshow(prev_screen)\n",
        "\n",
        "for i in range(50):\n",
        "  action = env.action_space.sample()\n",
        "  obs, reward, done, info = env.step(action)\n",
        "  screen = env.render(mode='rgb_array')\n",
        "  \n",
        "  plt.imshow(screen)\n",
        "  ipythondisplay.clear_output(wait=True)\n",
        "  ipythondisplay.display(plt.gcf())\n",
        "\n",
        "  if done:\n",
        "    break\n",
        "    \n",
        "ipythondisplay.clear_output(wait=True)\n",
        "env.close()"
      ],
      "metadata": {
        "id": "yyROvBGilptU",
        "outputId": "4de8ac23-fdce-4d53-ac4b-d80f736f5fdf",
        "colab": {
          "base_uri": "https://localhost:8080/",
          "height": 269
        }
      },
      "execution_count": 7,
      "outputs": [
        {
          "output_type": "display_data",
          "data": {
            "text/plain": [
              "<Figure size 432x288 with 1 Axes>"
            ],
            "image/png": "[encoded data removed]"
          },
          "metadata": {
            "needs_background": "light"
          }
        }
      ]
    },
    {
      "cell_type": "code",
      "source": [
        "episodes = 5\n",
        "\n",
        "for episode in range(1, episodes+1):\n",
        "  state = env.reset()\n",
        "  done = False\n",
        "  score = 0\n",
        "  score = 0\n",
        "\n",
        "  while not done:\n",
        "    env.render()\n",
        "    action = env.action_space.sample()\n",
        "    n_state, reward, done, info = env.step(action)\n",
        "    score += reward\n",
        "  print('Episode:{} Score:{}'.format(episode, score))\n",
        "env.close()"
      ],
      "metadata": {
        "id": "JYGsk_RhmAQ9",
        "colab": {
          "base_uri": "https://localhost:8080/"
        },
        "outputId": "743fe887-2ea2-4c2d-fe1a-bcdbe99620d4"
      },
      "execution_count": 8,
      "outputs": [
        {
          "output_type": "stream",
          "name": "stdout",
          "text": [
            "Episode:1 Score:23.0\n",
            "Episode:2 Score:17.0\n",
            "Episode:3 Score:27.0\n",
            "Episode:4 Score:13.0\n",
            "Episode:5 Score:28.0\n"
          ]
        }
      ]
    },
    {
      "cell_type": "code",
      "source": [
        "log_path = os.path.join('Training', 'Logs')"
      ],
      "metadata": {
        "id": "T7xOKz_imHar"
      },
      "execution_count": 9,
      "outputs": []
    },
    {
      "cell_type": "code",
      "source": [
        "env = gym.make(environment_name)\n",
        "env = DummyVecEnv([lambda: env])\n",
        "model = PPO('MlpPolicy', env, verbose=1, tensorboard_log=log_path)  "
      ],
      "metadata": {
        "id": "vLXzjT08mdQ6",
        "colab": {
          "base_uri": "https://localhost:8080/"
        },
        "outputId": "099fd6a2-88e5-4069-bdaa-c04f24cc8104"
      },
      "execution_count": 10,
      "outputs": [
        {
          "output_type": "stream",
          "name": "stdout",
          "text": [
            "Using cpu device\n"
          ]
        }
      ]
    },
    {
      "cell_type": "code",
      "source": [
        "model.learn(total_timesteps=10000)"
      ],
      "metadata": {
        "id": "7ds45-CEnArl",
        "colab": {
          "base_uri": "https://localhost:8080/"
        },
        "outputId": "4e0d7516-049f-4f22-fd10-a0d3c6bec045"
      },
      "execution_count": 11,
      "outputs": [
        {
          "output_type": "stream",
          "name": "stdout",
          "text": [
            "Logging to Training/Logs/PPO_1\n",
            "-----------------------------\n",
            "| time/              |      |\n",
            "|    fps             | 471  |\n",
            "|    iterations      | 1    |\n",
            "|    time_elapsed    | 4    |\n",
            "|    total_timesteps | 2048 |\n",
            "-----------------------------\n",
            "-----------------------------------------\n",
            "| time/                   |             |\n",
            "|    fps                  | 604         |\n",
            "|    iterations           | 2           |\n",
            "|    time_elapsed         | 6           |\n",
            "|    total_timesteps      | 4096        |\n",
            "| train/                  |             |\n",
            "|    approx_kl            | 0.008696609 |\n",
            "|    clip_fraction        | 0.111       |\n",
            "|    clip_range           | 0.2         |\n",
            "|    entropy_loss         | -0.686      |\n",
            "|    explained_variance   | -0.000498   |\n",
            "|    learning_rate        | 0.0003      |\n",
            "|    loss                 | 8.18        |\n",
            "|    n_updates            | 10          |\n",
            "|    policy_gradient_loss | -0.0171     |\n",
            "|    value_loss           | 56.3        |\n",
            "-----------------------------------------\n",
            "----------------------------------------\n",
            "| time/                   |            |\n",
            "|    fps                  | 667        |\n",
            "|    iterations           | 3          |\n",
            "|    time_elapsed         | 9          |\n",
            "|    total_timesteps      | 6144       |\n",
            "| train/                  |            |\n",
            "|    approx_kl            | 0.00884706 |\n",
            "|    clip_fraction        | 0.0553     |\n",
            "|    clip_range           | 0.2        |\n",
            "|    entropy_loss         | -0.663     |\n",
            "|    explained_variance   | 0.0757     |\n",
            "|    learning_rate        | 0.0003     |\n",
            "|    loss                 | 14.1       |\n",
            "|    n_updates            | 20         |\n",
            "|    policy_gradient_loss | -0.0158    |\n",
            "|    value_loss           | 36.4       |\n",
            "----------------------------------------\n",
            "-----------------------------------------\n",
            "| time/                   |             |\n",
            "|    fps                  | 707         |\n",
            "|    iterations           | 4           |\n",
            "|    time_elapsed         | 11          |\n",
            "|    total_timesteps      | 8192        |\n",
            "| train/                  |             |\n",
            "|    approx_kl            | 0.008170321 |\n",
            "|    clip_fraction        | 0.0934      |\n",
            "|    clip_range           | 0.2         |\n",
            "|    entropy_loss         | -0.627      |\n",
            "|    explained_variance   | 0.212       |\n",
            "|    learning_rate        | 0.0003      |\n",
            "|    loss                 | 17          |\n",
            "|    n_updates            | 30          |\n",
            "|    policy_gradient_loss | -0.0201     |\n",
            "|    value_loss           | 51.2        |\n",
            "-----------------------------------------\n",
            "-----------------------------------------\n",
            "| time/                   |             |\n",
            "|    fps                  | 731         |\n",
            "|    iterations           | 5           |\n",
            "|    time_elapsed         | 14          |\n",
            "|    total_timesteps      | 10240       |\n",
            "| train/                  |             |\n",
            "|    approx_kl            | 0.006541777 |\n",
            "|    clip_fraction        | 0.0599      |\n",
            "|    clip_range           | 0.2         |\n",
            "|    entropy_loss         | -0.619      |\n",
            "|    explained_variance   | 0.339       |\n",
            "|    learning_rate        | 0.0003      |\n",
            "|    loss                 | 28.2        |\n",
            "|    n_updates            | 40          |\n",
            "|    policy_gradient_loss | -0.0154     |\n",
            "|    value_loss           | 59          |\n",
            "-----------------------------------------\n"
          ]
        },
        {
          "output_type": "execute_result",
          "data": {
            "text/plain": [
              "<stable_baselines3.ppo.ppo.PPO at 0x7f96ba0e66d0>"
            ]
          },
          "metadata": {},
          "execution_count": 11
        }
      ]
    },
    {
      "cell_type": "code",
      "source": [
        "model.save(\"my_model_cart_pole\")"
      ],
      "metadata": {
        "id": "sGrNoPKgnmpm"
      },
      "execution_count": 12,
      "outputs": []
    },
    {
      "cell_type": "code",
      "source": [
        "episodes = 5\n",
        "for episode in range(1, episodes+1):\n",
        "  obs = env.reset()\n",
        "  done = False\n",
        "  score = 0\n",
        "\n",
        "  while not done:\n",
        "    env.render()\n",
        "    action, _ = model.predict(obs)\n",
        "    obs, reward, done, info = env.step(action)\n",
        "    score += reward\n",
        "  print('Episode:{} Score:{}'.format(episode, score))\n",
        "env.close()"
      ],
      "metadata": {
        "id": "_GtFxhxopJ6V",
        "colab": {
          "base_uri": "https://localhost:8080/"
        },
        "outputId": "48d76a28-ced8-4f3c-f8e1-c55822de6586"
      },
      "execution_count": 13,
      "outputs": [
        {
          "output_type": "stream",
          "name": "stdout",
          "text": [
            "Episode:1 Score:[144.]\n",
            "Episode:2 Score:[49.]\n",
            "Episode:3 Score:[128.]\n",
            "Episode:4 Score:[128.]\n",
            "Episode:5 Score:[117.]\n"
          ]
        }
      ]
    }
  ]
}